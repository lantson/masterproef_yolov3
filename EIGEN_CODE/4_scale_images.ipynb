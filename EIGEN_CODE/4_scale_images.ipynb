{
 "cells": [
  {
   "cell_type": "code",
   "execution_count": 2,
   "metadata": {},
   "outputs": [],
   "source": [
    "import os\n",
    "from sklearn.preprocessing import StandardScaler\n",
    "import spectral as spectral\n",
    "import spectral.io.envi as envi\n",
    "import uuid\n",
    "\n",
    "import numpy as np"
   ]
  },
  {
   "cell_type": "markdown",
   "metadata": {},
   "source": [
    "### 1. Scale data"
   ]
  },
  {
   "cell_type": "code",
   "execution_count": 3,
   "metadata": {},
   "outputs": [],
   "source": [
    "def scale_img(img):\n",
    "    h, w, k = img.shape\n",
    "    img = img.reshape(h*w, k)\n",
    "    \n",
    "    scaler = StandardScaler()\n",
    "    img = scaler.fit_transform(img)\n",
    "    \n",
    "    return img.reshape(h, w, k)"
   ]
  },
  {
   "cell_type": "code",
   "execution_count": 13,
   "metadata": {},
   "outputs": [],
   "source": [
    "DATA_DIRECTORY = \"data\"\n",
    "TRAIN_DIRECTORY = DATA_DIRECTORY + \"/\" + \"train\"\n",
    "TEST_DIRECTORY = DATA_DIRECTORY + \"/\" + \"test\""
   ]
  },
  {
   "cell_type": "code",
   "execution_count": null,
   "metadata": {},
   "outputs": [],
   "source": [
    "## train folder\n",
    "\n",
    "for filename in os.listdir(TRAIN_DIRECTORY):\n",
    "    if filename.endswith(\".raw\"):\n",
    "        filename = filename[:-4]\n",
    "        img = envi.open(TRAIN_DIRECTORY + \"/\" + filename + \".hdr\", TRAIN_DIRECTORY + \"/\" + filename + \".raw\")\n",
    "        img = np.array(img.load())\n",
    "        \n",
    "        # 1. scale image    \n",
    "        img = scale_img(img)\n",
    "\n",
    "        # 2. save scaled image\n",
    "        envi.save_image(TRAIN_DIRECTORY + \"/\" + filename + \".hdr\", img, dtype=np.float32, ext=\".raw\", force=True)"
   ]
  },
  {
   "cell_type": "code",
   "execution_count": null,
   "metadata": {},
   "outputs": [],
   "source": [
    "## test folder\n",
    "\n",
    "for filename in os.listdir(TEST_DIRECTORY):\n",
    "    if filename.endswith(\".raw\"):\n",
    "        filename = filename[:-4]\n",
    "        img = envi.open(TEST_DIRECTORY + \"/\" + filename + \".hdr\", TEST_DIRECTORY + \"/\" + filename + \".raw\")\n",
    "        img = np.array(img.load())\n",
    "        \n",
    "        # 1. scale image    \n",
    "        img = scale_img(img)\n",
    "        \n",
    "        # 3. save scaled image\n",
    "        envi.save_image(TEST_DIRECTORY + \"/\" + filename + \".hdr\", img, dtype=np.float32, ext=\".raw\", force=True)"
   ]
  }
 ],
 "metadata": {
  "interpreter": {
   "hash": "ffa4050fd1c852842fbee5a4ced2444a532faaffa7edb798b8d36d696ae2c5a4"
  },
  "kernelspec": {
   "display_name": "Python 3.9.7 64-bit ('tf270': conda)",
   "language": "python",
   "name": "python3"
  },
  "language_info": {
   "codemirror_mode": {
    "name": "ipython",
    "version": 3
   },
   "file_extension": ".py",
   "mimetype": "text/x-python",
   "name": "python",
   "nbconvert_exporter": "python",
   "pygments_lexer": "ipython3",
   "version": "3.9.7"
  },
  "orig_nbformat": 4
 },
 "nbformat": 4,
 "nbformat_minor": 2
}
