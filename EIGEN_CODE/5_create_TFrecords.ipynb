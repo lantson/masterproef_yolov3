{
 "cells": [
  {
   "cell_type": "code",
   "execution_count": 1,
   "metadata": {},
   "outputs": [],
   "source": [
    "import os"
   ]
  },
  {
   "cell_type": "code",
   "execution_count": 2,
   "metadata": {},
   "outputs": [],
   "source": [
    "LABEL_MAP_NAME = 'label_map.pbtxt'\n",
    "TF_RECORD_SCRIPT_PATH = 'generate_tfrecord'\n",
    "TF_RECORD_SCRIPT = TF_RECORD_SCRIPT_PATH + \"/\" + 'generate_tfrecord.py'\n",
    "\n",
    "IMAGE_PATH = \"data\"\n",
    "LABELMAP = \"label_map.pbtxt\"\n",
    "\n",
    "ANNOTATION_PATH = \"annotations\""
   ]
  },
  {
   "cell_type": "markdown",
   "metadata": {},
   "source": [
    "### 1. Create labelmap"
   ]
  },
  {
   "cell_type": "code",
   "execution_count": 3,
   "metadata": {},
   "outputs": [],
   "source": [
    "labels = [{'name':'firefighter', 'id':1},\n",
    "        ]\n",
    "\n",
    "with open(LABEL_MAP_NAME, 'w') as f:\n",
    "    for label in labels:\n",
    "        f.write('item { \\n')\n",
    "        f.write('\\tname:\\'{}\\'\\n'.format(label['name']))\n",
    "        f.write('\\tid:{}\\n'.format(label['id']))\n",
    "        f.write('}\\n')"
   ]
  },
  {
   "cell_type": "markdown",
   "metadata": {},
   "source": [
    "### 2. Create TF Records"
   ]
  },
  {
   "cell_type": "code",
   "execution_count": 4,
   "metadata": {},
   "outputs": [],
   "source": [
    "if not os.path.exists(TF_RECORD_SCRIPT_PATH):\n",
    "    pass\n",
    "    #!git clone https://github.com/nicknochnack/GenerateTFRecord {TF_RECORD_SCRIPT_PATH}"
   ]
  },
  {
   "cell_type": "code",
   "execution_count": 4,
   "metadata": {},
   "outputs": [
    {
     "name": "stdout",
     "output_type": "stream",
     "text": [
      "data\\train\\S1T1image_0000000000\n",
      "data\\train\\S1T1image_0000000020\n",
      "Successfully created the TFRecord file: \n"
     ]
    }
   ],
   "source": [
    "!python {TF_RECORD_SCRIPT} -x {os.path.join(IMAGE_PATH, 'train')} -l {LABELMAP} -o {os.path.join(ANNOTATION_PATH, 'train.record')} \n"
   ]
  },
  {
   "cell_type": "code",
   "execution_count": 5,
   "metadata": {},
   "outputs": [
    {
     "name": "stdout",
     "output_type": "stream",
     "text": [
      "data\\test\\S1T1image_0000000060\n",
      "data\\test\\S1T1image_0000000140\n",
      "Successfully created the TFRecord file: \n"
     ]
    }
   ],
   "source": [
    "!python {TF_RECORD_SCRIPT} -x {os.path.join(IMAGE_PATH, 'test')} -l {LABELMAP} -o {os.path.join(ANNOTATION_PATH, 'test.record')}"
   ]
  },
  {
   "cell_type": "code",
   "execution_count": null,
   "metadata": {},
   "outputs": [],
   "source": []
  }
 ],
 "metadata": {
  "interpreter": {
   "hash": "ffa4050fd1c852842fbee5a4ced2444a532faaffa7edb798b8d36d696ae2c5a4"
  },
  "kernelspec": {
   "display_name": "Python 3.9.7 64-bit ('tf270': conda)",
   "language": "python",
   "name": "python3"
  },
  "language_info": {
   "codemirror_mode": {
    "name": "ipython",
    "version": 3
   },
   "file_extension": ".py",
   "mimetype": "text/x-python",
   "name": "python",
   "nbconvert_exporter": "python",
   "pygments_lexer": "ipython3",
   "version": "3.9.7"
  },
  "orig_nbformat": 4
 },
 "nbformat": 4,
 "nbformat_minor": 2
}
