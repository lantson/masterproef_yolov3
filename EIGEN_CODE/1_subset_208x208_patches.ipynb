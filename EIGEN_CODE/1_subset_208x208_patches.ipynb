{
 "cells": [
  {
   "cell_type": "code",
   "execution_count": 13,
   "metadata": {},
   "outputs": [],
   "source": [
    "import spectral as spectral\n",
    "import spectral.io.envi as envi\n",
    "import os\n",
    "import uuid\n",
    "\n",
    "import numpy as np"
   ]
  },
  {
   "cell_type": "code",
   "execution_count": 14,
   "metadata": {},
   "outputs": [],
   "source": [
    "PATH_DATA = \"data\"\n",
    "NIR = \"NIR\"\n",
    "PATH_DIRECTORY = PATH_DATA + \"\\\\\" + NIR \n",
    "SUBSETTED_DIRECTORY = PATH_DIRECTORY + \"\\\\\" + \"24bands\""
   ]
  },
  {
   "cell_type": "code",
   "execution_count": 15,
   "metadata": {},
   "outputs": [],
   "source": [
    "if not os.path.exists(SUBSETTED_DIRECTORY):\n",
    "    !mkdir {SUBSETTED_DIRECTORY}"
   ]
  },
  {
   "cell_type": "code",
   "execution_count": 16,
   "metadata": {},
   "outputs": [],
   "source": [
    "def load_hyperspectral_image_and_reduce_to_208x208(filename):\n",
    "    filename = filename[:-4]\n",
    "    print(filename)\n",
    "    img = envi.open(filename + \".hdr\", filename + \".raw\")\n",
    "    img = np.array(img.load())\n",
    "    \n",
    "    h, w, b = img.shape\n",
    "    \n",
    "    # get subimg from right side original img\n",
    "    img1 = img[0:208, w-208:,:]\n",
    "    # get subimg from left side original img (starting pixel is where the calibration material ends)\n",
    "    img2 = img[0:208, 85:85+208,:]\n",
    "    \n",
    "    \n",
    "    #print(img1.shape)\n",
    "    #spectral.imshow(img1, bands=(4,8,12))\n",
    "    #spectral.imshow(img2, bands=(4,8,12))\n",
    "\n",
    "    return img1, img2"
   ]
  },
  {
   "cell_type": "code",
   "execution_count": 17,
   "metadata": {},
   "outputs": [
    {
     "name": "stdout",
     "output_type": "stream",
     "text": [
      "test\n",
      "data\\NIR/image_0000004278\n",
      "test\n",
      "data\\NIR/image_0000004279\n"
     ]
    }
   ],
   "source": [
    "SCENARIO = \"S2\"\n",
    "TAKE = \"T1\"\n",
    "\n",
    "for filename in os.listdir(PATH_DIRECTORY):\n",
    "    \n",
    "    if filename.endswith(\".raw\"):\n",
    "        print(\"test\")\n",
    "        img1, img2 = load_hyperspectral_image_and_reduce_to_208x208(PATH_DIRECTORY + \"/\" + filename)\n",
    "        \n",
    "        filename = filename[:-4]\n",
    "        \n",
    "        try:\n",
    "            envi.save_image(SUBSETTED_DIRECTORY + \"/\" + SCENARIO + TAKE + filename + \"R\" + \".hdr\", img1, dtype=np.float32, ext=\".raw\")\n",
    "            envi.save_image(SUBSETTED_DIRECTORY + \"/\" + SCENARIO + TAKE + filename + \"L\" + \".hdr\", img2, dtype=np.float32, ext=\".raw\")\n",
    "        except:\n",
    "            continue"
   ]
  },
  {
   "cell_type": "code",
   "execution_count": null,
   "metadata": {},
   "outputs": [],
   "source": []
  },
  {
   "cell_type": "code",
   "execution_count": null,
   "metadata": {},
   "outputs": [],
   "source": []
  },
  {
   "cell_type": "code",
   "execution_count": null,
   "metadata": {},
   "outputs": [],
   "source": []
  },
  {
   "cell_type": "code",
   "execution_count": null,
   "metadata": {},
   "outputs": [],
   "source": []
  }
 ],
 "metadata": {
  "interpreter": {
   "hash": "ffa4050fd1c852842fbee5a4ced2444a532faaffa7edb798b8d36d696ae2c5a4"
  },
  "kernelspec": {
   "display_name": "Python 3.9.7 ('tf270')",
   "language": "python",
   "name": "python3"
  },
  "language_info": {
   "codemirror_mode": {
    "name": "ipython",
    "version": 3
   },
   "file_extension": ".py",
   "mimetype": "text/x-python",
   "name": "python",
   "nbconvert_exporter": "python",
   "pygments_lexer": "ipython3",
   "version": "3.9.7"
  },
  "orig_nbformat": 4
 },
 "nbformat": 4,
 "nbformat_minor": 2
}
